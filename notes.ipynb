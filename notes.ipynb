{
 "cells": [
  {
   "cell_type": "markdown",
   "id": "55f5e8ed",
   "metadata": {},
   "source": [
    "#### week 1 video 1\n",
    "\n",
    "docker is runing the image, the data should in the docker file or all the previous operation will disappear"
   ]
  },
  {
   "cell_type": "code",
   "execution_count": null,
   "id": "9323b467",
   "metadata": {},
   "outputs": [],
   "source": [
    "$ winpty docker run -it --entrypoint=bash python:3.12.6\n",
    "    \n"
   ]
  },
  {
   "cell_type": "markdown",
   "id": "0e324cff",
   "metadata": {},
   "source": [
    "in the command line run the following"
   ]
  },
  {
   "cell_type": "code",
   "execution_count": null,
   "id": "938e1d9a",
   "metadata": {},
   "outputs": [],
   "source": [
    "#build up the docker file\n",
    "$ winpty docker build -t test:pandas .\n",
    "    # t means tag allow to assign a name\n",
    "    # test:pandas related to the name \n",
    "    #  . stand for the building content\n",
    "#run the docker file\n",
    "$ winpty docker run -it test:pandas 2021-01-12"
   ]
  },
  {
   "cell_type": "markdown",
   "id": "1aea65bb",
   "metadata": {},
   "source": [
    "here is the docker file"
   ]
  },
  {
   "cell_type": "code",
   "execution_count": null,
   "id": "f1fc9526",
   "metadata": {},
   "outputs": [],
   "source": [
    "# the version we want to use\n",
    "FROM python:3.12.6\n",
    "# install the package\n",
    "RUN pip install pandas\n",
    "# path and the document\n",
    "WORKDIR /app\n",
    "COPY pipeline.py pipeline.py\n",
    "\n",
    "# the entry point\n",
    "#ENTRYPOINT [ \"bash\" ]\n",
    "\n",
    "ENTRYPOINT [ \"python\", \"pipeline.py\" ]"
   ]
  },
  {
   "cell_type": "markdown",
   "id": "123f0902",
   "metadata": {},
   "source": [
    "here is the pipeline file run by docker"
   ]
  },
  {
   "cell_type": "code",
   "execution_count": null,
   "id": "3c049d96",
   "metadata": {},
   "outputs": [],
   "source": [
    "import pandas as pd\n",
    "import sys\n",
    "\n",
    "print(sys.argv)\n",
    "\n",
    "# as in C++\n",
    "day = sys.argv[1]\n",
    "\n",
    "print(f\"job finished for day= {day}\")"
   ]
  }
 ],
 "metadata": {
  "kernelspec": {
   "display_name": "Python 3 (ipykernel)",
   "language": "python",
   "name": "python3"
  },
  "language_info": {
   "codemirror_mode": {
    "name": "ipython",
    "version": 3
   },
   "file_extension": ".py",
   "mimetype": "text/x-python",
   "name": "python",
   "nbconvert_exporter": "python",
   "pygments_lexer": "ipython3",
   "version": "3.11.3"
  }
 },
 "nbformat": 4,
 "nbformat_minor": 5
}
